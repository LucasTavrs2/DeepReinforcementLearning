{
 "cells": [
  {
   "cell_type": "markdown",
   "id": "ef482710",
   "metadata": {},
   "source": []
  },
  {
   "cell_type": "code",
   "execution_count": 1,
   "id": "372a7095",
   "metadata": {},
   "outputs": [],
   "source": [
    "import gymnasium as gym              # cria ambiente de RL\n",
    "import torch                         # base do PyTorch\n",
    "import torch.nn as nn                # para definir camadas de rede neural\n",
    "import torch.optim as optim          # otimizadores (Adam, SGD, etc.)"
   ]
  },
  {
   "cell_type": "code",
   "execution_count": null,
   "id": "ba329c09",
   "metadata": {},
   "outputs": [],
   "source": [
    "env = gym.make(\"ALE/SpaceInvaders-v5\")\n",
    "\n",
    "#Definir arquitetura da rede neural\n",
    "class Network(nn.Module):\n",
    "    def __init__(self, dim_inputs, dim_outputs):\n",
    "        super(Network, self).__init__()\n",
    "        self.linear = nn.Linear(dim_inputs, dim_outputs)\n",
    "\n",
    "    def forward(self, x):\n",
    "        return self.linear(x)\n",
    "    \n",
    "#Instanciando rede\n",
    "\n",
    "network = Network(dim_inputs, dim_outputs)\n",
    "\n",
    "#Instanciando otimizador\n",
    "optimizer = optim.Adam(network.parameters(), lr=0.0001)"
   ]
  },
  {
   "cell_type": "code",
   "execution_count": null,
   "id": "a1c0f861",
   "metadata": {},
   "outputs": [],
   "source": [
    "for episode in range(1000):\n",
    "    state, info = env.reset()\n",
    "    done = False\n",
    "    while not done:\n",
    "        action = select_action(action, state)  # Função para selecionar ação com base na política\n",
    "        next_state, reward, terminated, truncated, _ = (env.step(action))\n",
    "        done = terminated or truncated\n",
    "        loss = calculate_loss(network, state, action, next_state, reward, done)\n",
    "        optimizer.zero_grad()\n",
    "        loss.backward()\n",
    "        optimizer.step()\n",
    "        state = next_state"
   ]
  },
  {
   "cell_type": "code",
   "execution_count": null,
   "id": "650ab4eb",
   "metadata": {},
   "outputs": [],
   "source": [
    "#Implementando o Q-Network\n",
    "class QNetwork(nn.Module):\n",
    "    def __init__(self, state_size, action_size):\n",
    "        super(QNetwork, self).__init__()\n",
    "        self.fc1 = nn.Linear(state_size, 64)\n",
    "        self.fc2 = nn.Linear(64, 64)\n",
    "        self.fc3 = nn.Linear(64, action_size)\n",
    "\n",
    "    def forward(self, state):\n",
    "        x = torch.relu(self.fc1(torch.tensor(state)))\n",
    "        x = torch.relu(self.fc2(x))\n",
    "        return self.fc3(x)\n",
    "\n",
    "QNetwork = QNetwork(8, 4)\n",
    "optimizer = optim.Adam(QNetwork.parameters(), lr=0.0001)"
   ]
  },
  {
   "cell_type": "code",
   "execution_count": null,
   "id": "aecc8458",
   "metadata": {},
   "outputs": [],
   "source": [
    "#The Barebone DQN loss function \n",
    "def calculate_loss(q_network, state, action, next_state, reward, done):\n",
    "    gamma = 0.99   # fator de desconto\n",
    "    q_values = q_network(state)\n",
    "    current_state_q_value = q_values[action]\n",
    "    next_state_q_values = q_network(next_state).max()\n",
    "    target_q_value = reward + gamma * next_state_q_values * (1 - done)\n",
    "    loss = nn.MSELoss(current_state_q_value, target_q_value)\n",
    "    return loss"
   ]
  },
  {
   "cell_type": "code",
   "execution_count": null,
   "id": "0bcadf75",
   "metadata": {},
   "outputs": [],
   "source": [
    "from collections import deque\n",
    "\n",
    "# Instantiate with limited capacity\n",
    "buffer = deque([1,2,3,4], maxlen = 7)\n",
    "\n",
    "#extend to right size\n",
    "buffer.extend([5,6,7,8])\n",
    "\n",
    "import random\n",
    "\n",
    "class ReplayBuffer:\n",
    "    def __init__(self, capacity):\n",
    "        self.memory = deque([], maxlen=capacity)\n",
    "\n",
    "    def push(self, state, action, reward, next_state, done):\n",
    "        experience_tuple = (state, action, reward, next_state, done)\n",
    "        self.memory.append(experience_tuple)\n",
    "\n",
    "    def __len__(self):\n",
    "        return len(self.memory)\n",
    "\n",
    "    def sample(self, batch_size):\n",
    "        batch =  random.sample(self.memory, batch_size)\n",
    "        states, actions, rewards, next_states, dones = zip(*batch)\n",
    "        states_tensor = torch.tensor(states, dtype=torch.float32) \n",
    "        rewards_tensor = torch.tensor(rewards, dtype=torch.float32)\n",
    "        next_states_tensor = torch.tensor(next_states, dtype=torch.float32)\n",
    "        dones_tensor = torch.tensor(dones, dtype=torch.float32)\n",
    "        actions_tensor = torch.tensor(actions, dtype=torch.long).unsqueeze(1)\n",
    "        return states_tensor, rewards_tensor, next_states_tensor, dones_tensor, actions_tensor"
   ]
  }
 ],
 "metadata": {
  "kernelspec": {
   "display_name": "Python 3",
   "language": "python",
   "name": "python3"
  },
  "language_info": {
   "codemirror_mode": {
    "name": "ipython",
    "version": 3
   },
   "file_extension": ".py",
   "mimetype": "text/x-python",
   "name": "python",
   "nbconvert_exporter": "python",
   "pygments_lexer": "ipython3",
   "version": "3.12.3"
  }
 },
 "nbformat": 4,
 "nbformat_minor": 5
}
